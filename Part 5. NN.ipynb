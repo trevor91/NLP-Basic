{
 "cells": [
  {
   "cell_type": "code",
   "execution_count": 1,
   "metadata": {},
   "outputs": [],
   "source": [
    "import re\n",
    "import random\n",
    "from math import exp, log\n",
    "from datetime import datetime\n",
    "from operator import itemgetter"
   ]
  },
  {
   "cell_type": "code",
   "execution_count": 2,
   "metadata": {},
   "outputs": [],
   "source": [
    "def clean(s):\n",
    "    return ' '.join(re.findall(r'\\w+',s,flags = re.UNICODE)).lower()"
   ]
  },
  {
   "cell_type": "code",
   "execution_count": 3,
   "metadata": {},
   "outputs": [],
   "source": [
    "def get_data_tsv(dataset, opts):\n",
    "    for e, line in enumerate(open(dataset,'rb')):\n",
    "        if e>0:\n",
    "            r=line.decode('utf-8').strip().split('\\t')\n",
    "            id = r[0]\n",
    "            \n",
    "            if opts['clean']:\n",
    "                try:\n",
    "                    r[2] = clean(r[2])\n",
    "                except:\n",
    "                    r[1] = clean(r[1])\n",
    "            if len(r) == 3: #train set\n",
    "                features = [(hash(f)%opts['D'],1) for f in r[2].split()]\n",
    "                label = int(r[1])\n",
    "            else: #test set\n",
    "                features = [(hash(f)%opts['D'],1) for f in r[1].split()]\n",
    "                label = 1\n",
    "                \n",
    "            if opts['2grams']:\n",
    "                for i in range(len(features)-1):\n",
    "                    features.append((hash(str(features[i][0]) + str(features[i+1][0])) % opts['D'], 1))\n",
    "            yield label, id, features"
   ]
  },
  {
   "cell_type": "code",
   "execution_count": 4,
   "metadata": {},
   "outputs": [],
   "source": [
    "def dot_product(features, weights):\n",
    "    dotp = 0\n",
    "    for f in features:\n",
    "        dotp += weights[f[0]] * f[1]\n",
    "    return dotp"
   ]
  },
  {
   "cell_type": "code",
   "execution_count": 5,
   "metadata": {},
   "outputs": [],
   "source": [
    "def train_tron(dataset, opts):\n",
    "    start = datetime.now()\n",
    "    print(\"\\nPass\\t\\tError\\t\\tAverage\\t\\tNr.Samples\\tSince Start\")\n",
    "    \n",
    "    if opts[\"random_init\"]:\n",
    "        random.seed(3003)\n",
    "        weights = [random.random()] * opts['D']\n",
    "    else:\n",
    "        weights = [0.] * opts['D']\n",
    "    \n",
    "    for pass_nr in range(opts['n_passes']):\n",
    "        error_counter=0\n",
    "        for e, (label, id, features) in enumerate( get_data_tsv(dataset, opts)):\n",
    "            dp = dot_product(features, weights) > 0.5\n",
    "            error = label - dp\n",
    "            if error != 0:\n",
    "                error_counter += 1\n",
    "                for index, value in features:\n",
    "                    weights[index] += opts['learning_rate'] * error * log(1.+value)\n",
    "        \n",
    "        print(\"%s\\t\\t%s\\t\\t%s\\t\\t%s\\t\\t%s\" % (\\\n",
    "                                             pass_nr+1,\n",
    "                                             error_counter,\n",
    "                                             round(1-error_counter / float(e+1),5),\n",
    "                                             e+1, datetime.now()-start))\n",
    "        if error_counter == 0 or error_counter < opts['errors_satisfied']:\n",
    "            print('%s errors found during training, halting' % error_counter)\n",
    "            break\n",
    "    return weights"
   ]
  },
  {
   "cell_type": "code",
   "execution_count": 6,
   "metadata": {},
   "outputs": [],
   "source": [
    "def test_tron(dataset, weifgrs, opts):\n",
    "    start = datetime.now()\n",
    "    print(\"\\nTesting online\\nErrors\\tAverage\\t\\tNr. Samples\\tSince Start\")\n",
    "    preds=[]\n",
    "    error_counter=0\n",
    "    for e, (label, id, features) in enumerate(get_data_tsv(dataset,opts)):\n",
    "        dotp = dot_product(features, weights)\n",
    "        dp = dotp > 0.5\n",
    "        if dp > 0.5:\n",
    "            preds.append([id,1,dotp])\n",
    "        else:\n",
    "            preds.append([id,0,dotp])\n",
    "        if label - dp != 0:\n",
    "            error_counter += 1\n",
    "            \n",
    "    print('%s\\t\\t%s\\t\\t%s\\t\\t%s' % (\\\n",
    "                                   error_counter,\n",
    "                                   round(1-error_counter / float(e+1),5),\n",
    "                                   e+1,\n",
    "                                   datetime.now()-start))\n",
    "    \n",
    "    max_dotp = max(preds, key = itemgetter(2))[2]\n",
    "    min_dotp = min(preds, key = itemgetter(2))[2]\n",
    "    for p in preds:\n",
    "        p.append((p[2]-min_dotp)/float(max_dotp-min_dotp))\n",
    "    print(\"Done testing in %s\" % str(datetime.now()-start))\n",
    "    return preds"
   ]
  },
  {
   "cell_type": "code",
   "execution_count": 7,
   "metadata": {},
   "outputs": [
    {
     "name": "stdout",
     "output_type": "stream",
     "text": [
      "\n",
      "Pass\t\tError\t\tAverage\t\tNr.Samples\tSince Start\n",
      "1\t\t5676\t\t0.77296\t\t25000\t\t0:00:13.409250\n",
      "2\t\t3132\t\t0.87472\t\t25000\t\t0:00:25.795160\n",
      "3\t\t2195\t\t0.9122\t\t25000\t\t0:00:38.096866\n",
      "4\t\t1716\t\t0.93136\t\t25000\t\t0:00:50.441805\n",
      "5\t\t1199\t\t0.95204\t\t25000\t\t0:01:02.441543\n",
      "6\t\t916\t\t0.96336\t\t25000\t\t0:01:14.485466\n",
      "7\t\t856\t\t0.96576\t\t25000\t\t0:01:26.523127\n",
      "8\t\t748\t\t0.97008\t\t25000\t\t0:01:38.494036\n",
      "9\t\t415\t\t0.9834\t\t25000\t\t0:01:50.359182\n",
      "10\t\t495\t\t0.9802\t\t25000\t\t0:02:02.202769\n",
      "11\t\t361\t\t0.98556\t\t25000\t\t0:02:14.181504\n",
      "12\t\t359\t\t0.98564\t\t25000\t\t0:02:25.988393\n",
      "13\t\t322\t\t0.98712\t\t25000\t\t0:02:37.798253\n",
      "14\t\t246\t\t0.99016\t\t25000\t\t0:02:49.602687\n",
      "15\t\t199\t\t0.99204\t\t25000\t\t0:03:01.381594\n",
      "16\t\t137\t\t0.99452\t\t25000\t\t0:03:13.172701\n",
      "17\t\t184\t\t0.99264\t\t25000\t\t0:03:25.029706\n",
      "18\t\t126\t\t0.99496\t\t25000\t\t0:03:36.806029\n",
      "19\t\t79\t\t0.99684\t\t25000\t\t0:03:48.639504\n",
      "20\t\t75\t\t0.997\t\t25000\t\t0:04:00.593168\n",
      "21\t\t73\t\t0.99708\t\t25000\t\t0:04:12.846513\n",
      "22\t\t48\t\t0.99808\t\t25000\t\t0:04:24.978029\n",
      "23\t\t83\t\t0.99668\t\t25000\t\t0:04:36.800725\n",
      "24\t\t71\t\t0.99716\t\t25000\t\t0:04:48.905287\n",
      "25\t\t59\t\t0.99764\t\t25000\t\t0:05:00.761200\n",
      "26\t\t83\t\t0.99668\t\t25000\t\t0:05:12.634088\n",
      "27\t\t53\t\t0.99788\t\t25000\t\t0:05:24.409176\n",
      "28\t\t56\t\t0.99776\t\t25000\t\t0:05:36.166554\n",
      "29\t\t45\t\t0.9982\t\t25000\t\t0:05:48.287482\n",
      "30\t\t60\t\t0.9976\t\t25000\t\t0:06:00.158877\n",
      "31\t\t57\t\t0.99772\t\t25000\t\t0:06:12.126529\n",
      "32\t\t40\t\t0.9984\t\t25000\t\t0:06:24.173816\n",
      "33\t\t29\t\t0.99884\t\t25000\t\t0:06:36.281576\n",
      "34\t\t67\t\t0.99732\t\t25000\t\t0:06:48.605981\n",
      "35\t\t32\t\t0.99872\t\t25000\t\t0:07:00.998161\n",
      "36\t\t10\t\t0.9996\t\t25000\t\t0:07:13.118962\n",
      "37\t\t0\t\t1.0\t\t25000\t\t0:07:25.205287\n",
      "0 errors found during training, halting\n",
      "Wall time: 7min 25s\n"
     ]
    }
   ],
   "source": [
    "opts = {}\n",
    "opts[\"D\"] = 2 ** 25\n",
    "opts[\"learning_rate\"] = 0.1\n",
    "opts[\"n_passes\"] = 80 # Maximum number of passes to run before halting\n",
    "opts[\"errors_satisfied\"] = 0 # Halt when training errors < errors_satisfied\n",
    "opts[\"random_init\"] = False # set random weights, else set all 0\n",
    "opts[\"clean\"] = True # clean the text a little\n",
    "opts[\"2grams\"] = True # add 2grams\n",
    "\n",
    "#training and saving model into weights\n",
    "%time weights = train_tron(\"./data/labeledTrainData.tsv\",opts)"
   ]
  },
  {
   "cell_type": "code",
   "execution_count": 8,
   "metadata": {},
   "outputs": [
    {
     "name": "stdout",
     "output_type": "stream",
     "text": [
      "\n",
      "Testing online\n",
      "Errors\tAverage\t\tNr. Samples\tSince Start\n",
      "12859\t\t0.48564\t\t25000\t\t0:00:12.385107\n",
      "Done testing in 0:00:12.423152\n",
      "Wall time: 12.4 s\n"
     ]
    }
   ],
   "source": [
    "%time preds = test_tron(\"./data/testData.tsv\",weights,opts)"
   ]
  },
  {
   "cell_type": "code",
   "execution_count": 9,
   "metadata": {},
   "outputs": [],
   "source": [
    "with open(\"./data/submit_perceptron.csv\",\"wb\") as outfile:\n",
    "    outfile.write('\"id\",\"sentiment\"\\n'.encode('utf-8'))\n",
    "    for p in sorted(preds):\n",
    "        outfile.write(\"{},{}\\n\".format(p[0],p[3]).encode('utf-8'))"
   ]
  }
 ],
 "metadata": {
  "kernelspec": {
   "display_name": "Python 3",
   "language": "python",
   "name": "python3"
  },
  "language_info": {
   "codemirror_mode": {
    "name": "ipython",
    "version": 3
   },
   "file_extension": ".py",
   "mimetype": "text/x-python",
   "name": "python",
   "nbconvert_exporter": "python",
   "pygments_lexer": "ipython3",
   "version": "3.5.5"
  }
 },
 "nbformat": 4,
 "nbformat_minor": 2
}
